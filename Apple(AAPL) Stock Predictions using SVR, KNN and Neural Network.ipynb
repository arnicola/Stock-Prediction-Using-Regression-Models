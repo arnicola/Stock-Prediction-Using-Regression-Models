{
 "cells": [
  {
   "cell_type": "code",
   "execution_count": 3,
   "metadata": {},
   "outputs": [],
   "source": [
    "import math\n",
    "import numpy as np\n",
    "import pandas as pd\n",
    "import seaborn as sns\n",
    "import matplotlib.pyplot as plt\n",
    "from sklearn import preprocessing\n",
    "%matplotlib inline\n",
    "sns.set()\n",
    "import datetime"
   ]
  },
  {
   "cell_type": "code",
   "execution_count": 5,
   "metadata": {},
   "outputs": [
    {
     "data": {
      "text/html": [
       "<div>\n",
       "<style scoped>\n",
       "    .dataframe tbody tr th:only-of-type {\n",
       "        vertical-align: middle;\n",
       "    }\n",
       "\n",
       "    .dataframe tbody tr th {\n",
       "        vertical-align: top;\n",
       "    }\n",
       "\n",
       "    .dataframe thead th {\n",
       "        text-align: right;\n",
       "    }\n",
       "</style>\n",
       "<table border=\"1\" class=\"dataframe\">\n",
       "  <thead>\n",
       "    <tr style=\"text-align: right;\">\n",
       "      <th></th>\n",
       "      <th>Open</th>\n",
       "      <th>High</th>\n",
       "      <th>Low</th>\n",
       "      <th>Close</th>\n",
       "      <th>Adj Close</th>\n",
       "      <th>Volume</th>\n",
       "    </tr>\n",
       "    <tr>\n",
       "      <th>Date</th>\n",
       "      <th></th>\n",
       "      <th></th>\n",
       "      <th></th>\n",
       "      <th></th>\n",
       "      <th></th>\n",
       "      <th></th>\n",
       "    </tr>\n",
       "  </thead>\n",
       "  <tbody>\n",
       "    <tr>\n",
       "      <th>2018-09-12</th>\n",
       "      <td>224.940002</td>\n",
       "      <td>225.000000</td>\n",
       "      <td>219.839996</td>\n",
       "      <td>221.070007</td>\n",
       "      <td>217.691925</td>\n",
       "      <td>49278700</td>\n",
       "    </tr>\n",
       "    <tr>\n",
       "      <th>2018-09-13</th>\n",
       "      <td>223.520004</td>\n",
       "      <td>228.350006</td>\n",
       "      <td>222.570007</td>\n",
       "      <td>226.410004</td>\n",
       "      <td>222.950317</td>\n",
       "      <td>41706400</td>\n",
       "    </tr>\n",
       "    <tr>\n",
       "      <th>2018-09-14</th>\n",
       "      <td>225.750000</td>\n",
       "      <td>226.839996</td>\n",
       "      <td>222.520004</td>\n",
       "      <td>223.839996</td>\n",
       "      <td>220.419571</td>\n",
       "      <td>31999300</td>\n",
       "    </tr>\n",
       "    <tr>\n",
       "      <th>2018-09-17</th>\n",
       "      <td>222.149994</td>\n",
       "      <td>222.949997</td>\n",
       "      <td>217.270004</td>\n",
       "      <td>217.880005</td>\n",
       "      <td>214.550659</td>\n",
       "      <td>37195100</td>\n",
       "    </tr>\n",
       "    <tr>\n",
       "      <th>2018-09-18</th>\n",
       "      <td>217.789993</td>\n",
       "      <td>221.850006</td>\n",
       "      <td>217.119995</td>\n",
       "      <td>218.240005</td>\n",
       "      <td>214.905167</td>\n",
       "      <td>31571700</td>\n",
       "    </tr>\n",
       "  </tbody>\n",
       "</table>\n",
       "</div>"
      ],
      "text/plain": [
       "                  Open        High         Low       Close   Adj Close  \\\n",
       "Date                                                                     \n",
       "2018-09-12  224.940002  225.000000  219.839996  221.070007  217.691925   \n",
       "2018-09-13  223.520004  228.350006  222.570007  226.410004  222.950317   \n",
       "2018-09-14  225.750000  226.839996  222.520004  223.839996  220.419571   \n",
       "2018-09-17  222.149994  222.949997  217.270004  217.880005  214.550659   \n",
       "2018-09-18  217.789993  221.850006  217.119995  218.240005  214.905167   \n",
       "\n",
       "              Volume  \n",
       "Date                  \n",
       "2018-09-12  49278700  \n",
       "2018-09-13  41706400  \n",
       "2018-09-14  31999300  \n",
       "2018-09-17  37195100  \n",
       "2018-09-18  31571700  "
      ]
     },
     "execution_count": 5,
     "metadata": {},
     "output_type": "execute_result"
    }
   ],
   "source": [
    "data = pd.read_csv('AAPL.csv')\n",
    "data = data.set_index('Date')\n",
    "data.head()"
   ]
  },
  {
   "cell_type": "code",
   "execution_count": 6,
   "metadata": {},
   "outputs": [
    {
     "name": "stdout",
     "output_type": "stream",
     "text": [
      "        Adj Close        Volume      HL_PCT  PCT_change\n",
      "count  252.000000  2.520000e+02  252.000000  252.000000\n",
      "mean   190.758425  3.251784e+07    2.121338    0.033741\n",
      "std     20.926060  1.392554e+07    1.072674    1.338646\n",
      "min    140.505798  1.136200e+07    0.593915   -4.036195\n",
      "25%    173.452965  2.285548e+07    1.341738   -0.738365\n",
      "50%    195.877899  2.904540e+07    1.864340    0.076363\n",
      "75%    206.560455  3.883658e+07    2.612961    0.811020\n",
      "max    228.523819  9.624670e+07    6.687024    5.981116\n",
      "\n",
      "<class 'pandas.core.frame.DataFrame'>\n",
      "Index: 252 entries, 2018-09-12 to 2019-09-12\n",
      "Data columns (total 4 columns):\n",
      "Adj Close     252 non-null float64\n",
      "Volume        252 non-null int64\n",
      "HL_PCT        252 non-null float64\n",
      "PCT_change    252 non-null float64\n",
      "dtypes: float64(3), int64(1)\n",
      "memory usage: 9.8+ KB\n",
      "None\n"
     ]
    }
   ],
   "source": [
    "data_eng = data.loc[:, ['Adj Close', 'Volume']]\n",
    "data_eng['HL_PCT'] = (data['High'] - data['Low']) / data['Close'] * 100.0\n",
    "data_eng['PCT_change'] = (data['Close'] - data['Open']) / data['Open'] * 100\n",
    "\n",
    "print(data_eng.describe())\n",
    "print('')\n",
    "print(data_eng.info())"
   ]
  },
  {
   "cell_type": "code",
   "execution_count": 9,
   "metadata": {},
   "outputs": [],
   "source": [
    "# data de validacion\n",
    "n_valid = int(math.ceil(0.3 * len(data_eng)))\n",
    "\n",
    "X_data = data_eng.drop(['Adj Close'], 1)\n",
    "y_data = data_eng['Adj Close']\n",
    "\n",
    "# Normalizacion\n",
    "X_data = preprocessing.scale(X_data)\n",
    "\n",
    "#Separacion data de entrenamiento y validacion\n",
    "X_train = X_data[:-n_valid]\n",
    "X_valid = X_data[-n_valid:]\n",
    "\n",
    "y_train = np.array(y_data[:-n_valid])\n",
    "y_valid = np.array(y_data[-n_valid:])"
   ]
  },
  {
   "cell_type": "code",
   "execution_count": 11,
   "metadata": {},
   "outputs": [
    {
     "data": {
      "text/plain": [
       "array([177.555389, 176.708603, 177.625122, 174.407349, 172.644043,\n",
       "       178.960052, 181.84906 , 184.518936, 189.430267, 191.851074,\n",
       "       194.072632, 193.454987, 193.415115, 192.010468, 193.156113,\n",
       "       197.698853, 197.121048, 198.705032, 198.027603, 197.828369,\n",
       "       194.829758, 199.043747, 198.983978, 197.170853, 200.787125,\n",
       "       201.962646, 203.636292, 203.45697 , 199.262909, 200.478302,\n",
       "       202.460754, 200.986359, 202.530502, 204.433273, 203.725952,\n",
       "       202.580307, 204.881561, 201.823181, 206.435654, 208.049515,\n",
       "       207.880173, 206.23642 , 206.95369 , 208.886337, 207.989746,\n",
       "       212.233627, 207.641068, 203.247772, 192.608185, 196.254333,\n",
       "       198.286606, 202.659988, 200.990005, 200.479996, 208.970001,\n",
       "       202.75    , 201.740005, 206.5     , 210.350006, 210.360001,\n",
       "       212.639999, 212.460007, 202.639999, 206.490005, 204.160004,\n",
       "       205.529999, 209.009995, 208.740005, 205.699997, 209.190002,\n",
       "       213.279999, 213.259995, 214.169998, 216.699997, 223.589996,\n",
       "       225.162506])"
      ]
     },
     "execution_count": 11,
     "metadata": {},
     "output_type": "execute_result"
    }
   ],
   "source": [
    "y_valid"
   ]
  },
  {
   "cell_type": "code",
   "execution_count": 30,
   "metadata": {},
   "outputs": [],
   "source": [
    "from sklearn import svm"
   ]
  },
  {
   "cell_type": "code",
   "execution_count": 32,
   "metadata": {},
   "outputs": [],
   "source": [
    "#----\n",
    "# SVR\n",
    "#----"
   ]
  },
  {
   "cell_type": "code",
   "execution_count": 17,
   "metadata": {},
   "outputs": [],
   "source": [
    "clf = svm.SVR()"
   ]
  },
  {
   "cell_type": "code",
   "execution_count": 23,
   "metadata": {},
   "outputs": [
    {
     "name": "stderr",
     "output_type": "stream",
     "text": [
      "C:\\Users\\arami\\Anaconda3\\lib\\site-packages\\sklearn\\svm\\base.py:193: FutureWarning: The default value of gamma will change from 'auto' to 'scale' in version 0.22 to account better for unscaled features. Set gamma explicitly to 'auto' or 'scale' to avoid this warning.\n",
      "  \"avoid this warning.\", FutureWarning)\n"
     ]
    },
    {
     "data": {
      "text/plain": [
       "SVR(C=1.0, cache_size=200, coef0=0.0, degree=3, epsilon=0.1,\n",
       "    gamma='auto_deprecated', kernel='rbf', max_iter=-1, shrinking=True,\n",
       "    tol=0.001, verbose=False)"
      ]
     },
     "execution_count": 23,
     "metadata": {},
     "output_type": "execute_result"
    }
   ],
   "source": [
    "clf.fit(X_train, y_train)"
   ]
  },
  {
   "cell_type": "code",
   "execution_count": 25,
   "metadata": {},
   "outputs": [],
   "source": [
    "ySVR = clf.predict(X_valid)"
   ]
  },
  {
   "cell_type": "code",
   "execution_count": 27,
   "metadata": {},
   "outputs": [
    {
     "data": {
      "text/plain": [
       "array([184.3031981 , 187.61014102, 187.47554928, 183.93934549,\n",
       "       185.65960029, 189.36773529, 183.2230685 , 189.99697939,\n",
       "       189.32813753, 187.75721493, 185.39033167, 187.5906715 ,\n",
       "       186.12183901, 189.20004698, 188.86808929, 190.02590358,\n",
       "       184.36778921, 185.40215257, 182.49436941, 187.02589953,\n",
       "       183.71360152, 189.26032959, 185.85333241, 183.41817975,\n",
       "       183.73183613, 188.30611658, 188.23628529, 188.14327105,\n",
       "       184.88084725, 189.34266663, 188.57850497, 184.86956379,\n",
       "       187.85565607, 188.18254657, 187.26093048, 186.58799878,\n",
       "       188.73280888, 183.5986621 , 190.35685247, 187.16605724,\n",
       "       188.22318154, 185.55738578, 187.58993236, 187.9176468 ,\n",
       "       183.92536212, 184.69866476, 185.38529588, 182.8550298 ,\n",
       "       184.36621181, 185.50857641, 189.26769866, 190.10034099,\n",
       "       186.01751613, 187.94030697, 185.22179256, 183.50765274,\n",
       "       184.83489791, 188.74400522, 185.71568823, 184.91358744,\n",
       "       185.99657946, 185.90603271, 186.14113201, 186.36009658,\n",
       "       183.1802721 , 188.8578181 , 187.46735933, 185.01484948,\n",
       "       185.99275074, 187.79303081, 187.72073306, 185.84815611,\n",
       "       185.9607607 , 189.15638464, 187.11462692, 187.51056039])"
      ]
     },
     "execution_count": 27,
     "metadata": {},
     "output_type": "execute_result"
    }
   ],
   "source": [
    "ySVR"
   ]
  },
  {
   "cell_type": "code",
   "execution_count": 33,
   "metadata": {},
   "outputs": [],
   "source": [
    "#----\n",
    "#K-NN\n",
    "#----"
   ]
  },
  {
   "cell_type": "code",
   "execution_count": 34,
   "metadata": {},
   "outputs": [],
   "source": [
    "from sklearn.neighbors import KNeighborsRegressor"
   ]
  },
  {
   "cell_type": "code",
   "execution_count": 35,
   "metadata": {},
   "outputs": [
    {
     "data": {
      "text/plain": [
       "KNeighborsRegressor(algorithm='auto', leaf_size=30, metric='minkowski',\n",
       "                    metric_params=None, n_jobs=None, n_neighbors=5, p=2,\n",
       "                    weights='uniform')"
      ]
     },
     "execution_count": 35,
     "metadata": {},
     "output_type": "execute_result"
    }
   ],
   "source": [
    "knn_model = KNeighborsRegressor(n_neighbors=5)\n",
    "knn_model.fit(X_train, y_train)"
   ]
  },
  {
   "cell_type": "code",
   "execution_count": 36,
   "metadata": {},
   "outputs": [],
   "source": [
    "yKNN = knn_model.predict(X_valid)"
   ]
  },
  {
   "cell_type": "code",
   "execution_count": 37,
   "metadata": {},
   "outputs": [
    {
     "data": {
      "text/plain": [
       "array([185.3699522, 195.8655852, 183.3605316, 173.5557402, 183.7730684,\n",
       "       185.820877 , 189.364096 , 196.5398866, 192.596353 , 186.6979248,\n",
       "       192.4629362, 187.7985138, 206.056134 , 192.6274994, 187.5047608,\n",
       "       196.897226 , 181.8739198, 196.4704956, 178.0950652, 181.0581724,\n",
       "       183.8984466, 197.4325592, 177.9817532, 161.1665192, 187.5424224,\n",
       "       184.4283388, 181.5007784, 176.300641 , 192.3988158, 191.92128  ,\n",
       "       177.3525818, 191.1983704, 189.6026796, 184.4283388, 181.1395538,\n",
       "       182.0029326, 182.570581 , 177.6315642, 192.4965028, 196.4263764,\n",
       "       181.5007784, 188.360205 , 186.7306946, 180.5330812, 166.283731 ,\n",
       "       179.7503724, 178.582016 , 173.0465238, 181.2710236, 186.5213474,\n",
       "       195.9357086, 192.4497954, 198.3561552, 175.4352752, 182.92576  ,\n",
       "       181.9620606, 196.7897676, 209.1157136, 196.0435636, 192.1703612,\n",
       "       177.9817532, 197.6120972, 195.6414918, 197.9595094, 186.992865 ,\n",
       "       182.9953248, 181.1494812, 193.5244754, 200.2773162, 183.9976442,\n",
       "       176.4137726, 182.0029326, 189.3117282, 187.0583862, 178.049109 ,\n",
       "       188.1180632])"
      ]
     },
     "execution_count": 37,
     "metadata": {},
     "output_type": "execute_result"
    }
   ],
   "source": [
    "yKNN"
   ]
  },
  {
   "cell_type": "code",
   "execution_count": 43,
   "metadata": {},
   "outputs": [],
   "source": [
    "#--------------\n",
    "#NEURAL NETWORK\n",
    "#--------------"
   ]
  },
  {
   "cell_type": "code",
   "execution_count": 44,
   "metadata": {},
   "outputs": [],
   "source": [
    "from sklearn.neural_network import MLPRegressor"
   ]
  },
  {
   "cell_type": "code",
   "execution_count": 45,
   "metadata": {},
   "outputs": [],
   "source": [
    "reg = MLPRegressor(hidden_layer_sizes=(100,100,100),  activation='relu', solver='adam',    alpha=0.0001,batch_size='auto',\n",
    "               learning_rate='constant', learning_rate_init=0.01, power_t=0.5, max_iter=1000, shuffle=True,\n",
    "               random_state=None, tol=0.0001, verbose=False, warm_start=False, momentum=0.9,\n",
    "               nesterovs_momentum=True, early_stopping=False, validation_fraction=0.1, beta_1=0.9, beta_2=0.999,\n",
    "               epsilon=1e-08)"
   ]
  },
  {
   "cell_type": "code",
   "execution_count": 46,
   "metadata": {},
   "outputs": [],
   "source": [
    "reg = reg.fit(X_train, y_train)"
   ]
  },
  {
   "cell_type": "code",
   "execution_count": 47,
   "metadata": {},
   "outputs": [],
   "source": [
    "yRN = reg.predict(X_valid)"
   ]
  },
  {
   "cell_type": "code",
   "execution_count": 48,
   "metadata": {},
   "outputs": [
    {
     "data": {
      "text/plain": [
       "array([182.34276311, 211.76956139, 189.3775418 , 193.93374309,\n",
       "       182.15663627, 199.71089151, 204.77990486, 197.46897529,\n",
       "       191.53726445, 202.58737914, 186.23940757, 194.00210078,\n",
       "       207.33565772, 184.54132855, 182.4560084 , 198.92247438,\n",
       "       190.48690953, 193.25907492, 200.77338994, 195.10984955,\n",
       "       160.35189588, 214.71202647, 187.86118895, 166.75354431,\n",
       "       182.10950527, 191.53986537, 199.04938241, 187.54278432,\n",
       "       192.61025593, 193.58401589, 183.20232504, 195.86226003,\n",
       "       193.8183859 , 191.35610867, 200.47355999, 202.48824517,\n",
       "       180.73157732, 160.05374543, 190.5374271 , 198.31956877,\n",
       "       193.68691205, 194.85075582, 194.38168315, 183.81389651,\n",
       "       178.97232739, 173.93918536, 147.81121591, 185.13194491,\n",
       "       183.47746713, 178.95189567, 198.3441925 , 202.33461879,\n",
       "       203.61890594, 181.70860601, 159.24240394, 174.35115219,\n",
       "       172.75169872, 210.95259732, 189.67651712, 188.6021899 ,\n",
       "       187.69648295, 200.58509634, 191.89481787, 197.25629486,\n",
       "       161.87743365, 187.40208509, 186.91962337, 191.42959375,\n",
       "       200.76424561, 188.41422616, 181.46581353, 188.96639105,\n",
       "       165.84479607, 190.56429471, 184.71875879, 191.62851084])"
      ]
     },
     "execution_count": 48,
     "metadata": {},
     "output_type": "execute_result"
    }
   ],
   "source": [
    "yRN"
   ]
  },
  {
   "cell_type": "code",
   "execution_count": 49,
   "metadata": {},
   "outputs": [],
   "source": [
    "#COMPARISON"
   ]
  },
  {
   "cell_type": "code",
   "execution_count": 51,
   "metadata": {},
   "outputs": [
    {
     "data": {
      "image/png": "[encoded data removed]",
      "text/plain": [
       "<Figure size 432x288 with 1 Axes>"
      ]
     },
     "metadata": {},
     "output_type": "display_data"
    }
   ],
   "source": [
    "fig, ax = plt.subplots()\n",
    "\n",
    "ax.set_title('Models Comparison')\n",
    "ax.set_ylabel('Adj Close')\n",
    "\n",
    "ax.plot(y_valid, label=\"Validation Data\")\n",
    "ax.plot(ySVR, label=\"SVR\")\n",
    "ax.plot(yKNN, label=\"K N Neighbors\")\n",
    "ax.plot(yRN, label=\"Neural Network\")\n",
    "plt.legend()\n",
    "\n",
    "plt.show()"
   ]
  }
 ],
 "metadata": {
  "kernelspec": {
   "display_name": "Python 3",
   "language": "python",
   "name": "python3"
  },
  "language_info": {
   "codemirror_mode": {
    "name": "ipython",
    "version": 3
   },
   "file_extension": ".py",
   "mimetype": "text/x-python",
   "name": "python",
   "nbconvert_exporter": "python",
   "pygments_lexer": "ipython3",
   "version": "3.7.3"
  }
 },
 "nbformat": 4,
 "nbformat_minor": 2
}
